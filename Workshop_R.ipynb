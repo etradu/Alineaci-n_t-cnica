{
 "cells": [
  {
   "cell_type": "markdown",
   "metadata": {},
   "source": [
    "# Que es R\n",
    "\n",
    "Lenguaje de programación que se enfoca principalmente en el análisis estadístico. En R, podemos crear programas que lean, manipulen y analicen datos cuantitativos."
   ]
  },
  {
   "cell_type": "markdown",
   "metadata": {},
   "source": [
    "# Sistema de ayuda\n",
    "\n",
    "r-help-es@r-project.org : lista de preguntas frecuentes en R\n"
   ]
  },
  {
   "cell_type": "code",
   "execution_count": null,
   "metadata": {},
   "outputs": [],
   "source": [
    "# HELP, como parametro: nombre de la función\n",
    "#print(\"Busqueda por help\")\n",
    "#help(\"read.table\") # Descripción de la función\n",
    "\n",
    "example(\"read.table\") # Ejemplo de la función"
   ]
  },
  {
   "cell_type": "code",
   "execution_count": null,
   "metadata": {},
   "outputs": [],
   "source": [
    "# LIBRARY\n",
    "library(help=\"grDevices\") # Información de la librería grDevices, que es del sistema base de R\n",
    "\n"
   ]
  },
  {
   "cell_type": "code",
   "execution_count": null,
   "metadata": {},
   "outputs": [],
   "source": [
    "# Viñeta\n",
    "vignette(all=TRUE) # Lista de todas las viñetas. Documento que e genera, ayuda por un pdf\n",
    "vignette(\"Intro2Matrix\") # pdf que presenta toda la información del paquete, con ejemplos"
   ]
  },
  {
   "cell_type": "markdown",
   "metadata": {},
   "source": [
    "## Tipos de datos\n",
    "\n",
    "- character\n",
    "- numeric: flotante\n",
    " * integer\n",
    " * complex\n",
    "- logical: F o T\n",
    "\n",
    "Vector: en R, un vector solo puede contener objetos de la misma clase\n",
    "\n",
    "Lista: se puede ver como un vector de objetos de diferentes clases\n",
    "\n",
    "NaN: not a number, no es un numero, aparece cuando una operación es indeterminada\n",
    "Inf: infinito:, dividir un numero pequeño entre algo muy grande"
   ]
  },
  {
   "cell_type": "markdown",
   "metadata": {},
   "source": [
    "## Atributos, Entrada y Coercion\n",
    "\n",
    "Atributos\n",
    "\n",
    "-Names\n",
    "- Dimensions (matrices, arreglos)\n",
    "- Class\n",
    "- Length\n",
    "- Otros atributos definidos por el usuario\n",
    "\n",
    "attributes(name): name, nombre del objeto"
   ]
  },
  {
   "cell_type": "code",
   "execution_count": null,
   "metadata": {},
   "outputs": [],
   "source": [
    "# <- simbolo de asignación\n",
    "x <- 1\n",
    "print(x)\n",
    "\n",
    "mensaje1 <- \"hola\"\n",
    "\"Hola\" -> mensaje2\n",
    "\n",
    "print(paste(\"Mensaje 1: \",mensaje1))\n",
    "print(paste(\"Mensaje 2: \",mensaje2))\n"
   ]
  },
  {
   "cell_type": "markdown",
   "metadata": {},
   "source": [
    "# Vectores"
   ]
  },
  {
   "cell_type": "code",
   "execution_count": null,
   "metadata": {},
   "outputs": [],
   "source": [
    "#Vector: colección ordenada de números\n",
    "x <- 1:100 # \":\" operador de secuencia,  x se le fue asignado el valor de 1 a 100, vector de tamaño 100, incrementando en una unidad\n",
    "print(\"Vector de 1 a 100\")\n",
    "print(x)"
   ]
  },
  {
   "cell_type": "code",
   "execution_count": null,
   "metadata": {},
   "outputs": [],
   "source": [
    "# Creación de vectores\n",
    "\n",
    "# COMBINE\n",
    "\n",
    "x <- c(10 + 21, 11+3i, 12 + 5i) # c(): (combine), creación de vectores\n",
    "print(\"Vectores de números complejos\")\n",
    "print(x)\n",
    "\n",
    "y <- c(561,1105,1729,2465,2821)\n",
    "print(\"Vector\")\n",
    "print(y)\n",
    "\n",
    "## SEGUNDA FORMA VECTOR\n",
    "\n",
    "y <- vector(\"numeric\", length=10) # creando vectores inidicando el tipo y el tamaño\n",
    "print(\"Vector de variables númericas\")\n",
    "print(y)\n",
    "\n",
    "y <- vector(\"character\", length=10)\n",
    "print(\"Vector de caracteres vacio\")\n",
    "print(y)\n",
    "\n",
    "y <- vector(\"logical\", length=10)\n",
    "print(\"Vector de variables lógicas\")\n",
    "y"
   ]
  },
  {
   "cell_type": "code",
   "execution_count": null,
   "metadata": {},
   "outputs": [],
   "source": [
    "print(\"Resta de vectores\")\n",
    "z <- c(1.1,2.2,3.3,4.4)-c(1,1,1,1) # resta con la funcion c()\n",
    "typeof(z)\n",
    "class(z)\n",
    "print(\"Resta entre vectores de diferente longitud\")\n",
    "c(1,2,3,4,5,6,7,8,9,10)-c(1,2) # Toma la secuencia mas baja si el vector es de diferente tamaño\n",
    "\n",
    "print(\"Visualización de objetos creados en R\")\n",
    "ls() # Visualizar que objetos tenemos un momento determinado\n"
   ]
  },
  {
   "cell_type": "code",
   "execution_count": null,
   "metadata": {},
   "outputs": [],
   "source": [
    "# Otros tipos de objetos\n",
    "\n",
    "# Caracter\n",
    "\"¡Hola mundo!\" # vector de longitud 1\n",
    "\n",
    "# Complejo, a + bi, operaciones básicas: +,*,/,-\n",
    "complejo <- 2+1i\n",
    "complejo\n",
    "\n",
    "print(\"Raíz cuadrada\")\n",
    "sqrt(complejo) # raiz cuadrada\n",
    "\n",
    "print(\"Valor absoluto\")\n",
    "abs(complejo) # valor absoluto\n",
    "\n"
   ]
  },
  {
   "cell_type": "code",
   "execution_count": null,
   "metadata": {},
   "outputs": [],
   "source": [
    "# Cuando mezclan dos objetos de diferente tipo, no se genera un error, si no que una acción llamada \"coerción\", \n",
    "# en donde se genera un objeto comun y los objetos no en comun son convertidos\n",
    "print(\"Conversión de 1.7 a strings\")\n",
    "y <- c(1.7,\"a\") # Como el valor a no es convertido a un vaor numerico, el 1.7 se convierte\n",
    "y\n",
    "\n",
    "# Coercion explicita\n",
    "# as.numeric(), as.logical(), as.character(), as.integer()\n",
    "x <- 0:10\n",
    "print(\"Clase original del vector\")\n",
    "class(x)\n",
    "\n",
    "a <- as.numeric(x)\n",
    "print(\"Vector convertido a clase númerica\")\n",
    "class(a)\n",
    "\n",
    "b <- as.logical(x)\n",
    "print(\"Vector convertido a clase lógica\")\n",
    "class(b)\n"
   ]
  },
  {
   "cell_type": "markdown",
   "metadata": {},
   "source": [
    "# Matrices"
   ]
  },
  {
   "cell_type": "code",
   "execution_count": null,
   "metadata": {},
   "outputs": [],
   "source": [
    "# Una matriz es una extensión de un vector de dos dimensiones. Las matrices son usadas para representar \n",
    "# de un solo tipo de dos dimensiones\n",
    "\n",
    "m <- matrix (1:6, nrow=2, ncol=3) # creacion del vector\n",
    "print(\"Matriz creada\")\n",
    "m\n",
    "\n",
    "print(\"Dimensión de la matriz\")\n",
    "dim(m) # Dimension 2 x 3\n",
    "\n",
    "print(\"Clase de la matriz\")\n",
    "class(dim(m)) # Clase de la matrix\n",
    "\n",
    "# Las matrices en R se llenan por columnas de izquiera a derecha, contrario en C que se llenan renglon por renglon\n",
    "\n",
    "# conversion de vector a matrix\n",
    "\n",
    "m <- 1:10 # creacion del vector\n",
    "print(\"Matriz creada\")\n",
    "m\n",
    "\n",
    "print(\"Conversión de vector a matríz\")\n",
    "dim(m) <- c(2,5) # asignando la dimension \n",
    "m\n",
    "\n",
    "#cbind()  tomando vectores y lo forman como columnas, rbind: por filas\n",
    "print(\"Vector x\")\n",
    "x <- 5:8\n",
    "\n",
    "print(\"Vector y\")\n",
    "y <- 12:15\n",
    "\n",
    "print(\"Creación del vector por columnas\")\n",
    "cbind(x,y)\n",
    "\n",
    "print(\"Creación del vector por filas\")\n",
    "rbind(x,y)\n"
   ]
  },
  {
   "cell_type": "markdown",
   "metadata": {},
   "source": [
    "# Operaciones vectoriales\n",
    "\n",
    "## Operaciones Básicas y Números\n",
    "\n",
    "Aritmeticas: se pueden usar operaciones con vectores\n",
    "Logicas: se evaluan de izquiera a derecha, examinando el primer elemento de cada vector\n",
    "\n",
    "\n",
    "\n",
    "\n",
    "Operaciones binarias\n",
    "\n",
    "+,-,*,/, %/% (entera)\n",
    "\n",
    "Unarias:\n",
    "\n",
    " & = && = and, | = || = or\n",
    " \n",
    " De orden:\n",
    " \n",
    " <,>,>=,<=,==, !=\n",
    "\n",
    "\n",
    "\n",
    "\n",
    "\n"
   ]
  },
  {
   "cell_type": "code",
   "execution_count": null,
   "metadata": {},
   "outputs": [],
   "source": [
    "print(\"Suma, multiplicación y división\")\n",
    "2+3*4/5\n",
    "\n",
    "2+((3*4)/5)\n",
    "\n"
   ]
  },
  {
   "cell_type": "code",
   "execution_count": null,
   "metadata": {},
   "outputs": [],
   "source": [
    "x <- 7:10\n",
    "print(\"Vector x\")\n",
    "x\n",
    "\n",
    "y <- 9:12\n",
    "print(\"Vector y\")\n",
    "\n",
    "print(\"Suma de x,y\")\n",
    "x+y\n",
    "\n",
    "print(\"Comparacion de cada elemento de x\")\n",
    "x > 8\n",
    "\n",
    "print(\"Comparacion de cada elemento de y\")\n",
    "y == 11\n",
    "\n",
    "print(\"Multiplicación de x,y\")\n",
    "x*y\n",
    "\n",
    "print(\"División de x,y\")\n",
    "x/y\n"
   ]
  },
  {
   "cell_type": "code",
   "execution_count": null,
   "metadata": {},
   "outputs": [],
   "source": [
    "# Operaciones vectoriales entre matrices\n",
    "\n",
    "x <- matrix(rep(5),4,4) # replica 5 en todas las posiciones de la matrix\n",
    "print(\"Matriz x\")\n",
    "x\n",
    "\n",
    "y <- matrix(1:16,4,4)\n",
    "print(\"Matriz y\")\n",
    "y\n",
    "\n",
    "print(\"Suma de la matriz x,y\")\n",
    "x+y\n",
    "\n",
    "print(\"Multiplicación de la matriz x,y\")\n",
    "x*y"
   ]
  },
  {
   "cell_type": "code",
   "execution_count": null,
   "metadata": {},
   "outputs": [],
   "source": [
    "# Valores especiales\n",
    "#NA: usados para representar valores faltantes\n",
    "\n",
    "complejo <- c(1+2i)\n",
    "print(\"Variable compleja\")\n",
    "complejo\n",
    "\n",
    "print(\"Asignacion de longitud 3 a variable compleja\")\n",
    "length(complejo) <- 3\n",
    "complejo\n",
    "\n",
    "# Para un valor positivo muy grande R arroja Inf, para uno negativo aroja -Inf\n",
    "print(\"Resultado Inf\")\n",
    "2^1024\n",
    "\n",
    "# Expresiones sin sentido arroja NaN\n",
    "print(\"Resultado NaN\")\n",
    "0/0"
   ]
  },
  {
   "cell_type": "markdown",
   "metadata": {},
   "source": [
    "# Manejo de Fechas tiempos\n",
    "\n",
    "Contienen clases que permiten llevar a cabo operaiones númericas y estadísticas con ellas\n",
    "\n",
    "Tiempo: POSIXct, desde 10 de enero de 1970\n",
    "\n",
    "Tiempo: POSICly: segundos, minutos, horas, dia del mes, mes del año, años desde 1900, dia de la semana, dia del año, indicador de horario de verano.\n",
    "\n",
    "DIFICULTADES: R imprime los tipos de dato de manera diferente a cómo los esta guardando internamente. Esto puede hacer que las conversiones puedan llegar a ser complejas\n",
    "\n",
    " "
   ]
  },
  {
   "cell_type": "code",
   "execution_count": null,
   "metadata": {},
   "outputs": [],
   "source": [
    "t <- Sys.time() # Fecha actual\n",
    "print(\"Fecha y tiempo actual\")\n",
    "t\n",
    "\n",
    "print(\"Tipo de dato de fecha\")\n",
    "typeof(t)\n",
    "\n",
    "print(\"Solo fecha actual\")\n",
    "fecha <- Sys.Date() \n",
    "fecha\n"
   ]
  },
  {
   "cell_type": "code",
   "execution_count": null,
   "metadata": {},
   "outputs": [],
   "source": [
    "# as.POSIXlt(value) y as.POSIXct se puede convertir el valor de tiempo en diferentes formatos\n",
    "l <- as.POSIXlt(t)\n",
    "print(\"Fecha actual como lista\")\n",
    "l\n",
    "\n",
    "print(\"Clase de la fecha\")\n",
    "typeof(l)\n",
    "\n"
   ]
  },
  {
   "cell_type": "code",
   "execution_count": null,
   "metadata": {},
   "outputs": [],
   "source": [
    "tiempo <- strftime(l, \"%Y-%m-%d %H:%M:%S\") # convertir a cadena\n",
    "\n",
    "print(\"Fecha como caracter\")\n",
    "tiempo\n",
    "\n",
    "print(\"Clase de fecha\")\n",
    "typeof(tiempo)\n",
    "\n",
    "# de una cadena de caracteres a tiempo\n",
    "fecha <- c(\"2014-01-23 14:28:21\")\n",
    "print(\"Fecha a caracteres\")\n",
    "\n",
    "print(\"Tipo de fecha\")\n",
    "typeof(fecha)\n",
    "\n",
    "date <- strptime(fecha, \"%Y-%m-%d %H:%M:%S\")\n",
    "print(\"Conversión a tiempo\")\n",
    "date\n",
    "\n",
    "print(\"Tipo de dato de fecha\")\n",
    "typeof(date)\n",
    "\n",
    "print(\"Clase a la que pertenece\")\n",
    "class(date)\n"
   ]
  },
  {
   "cell_type": "code",
   "execution_count": null,
   "metadata": {},
   "outputs": [],
   "source": [
    "# operaciones entre fechas\n",
    "mi_fecha1 <- c(\"2018-01-23 14:28:21\")\n",
    "my_date <- strptime(mi_fecha1, \"%Y:%m:%d %H:%M:%S\")\n",
    "\n",
    "print(\"Fecha 1\")\n",
    "my_date\n",
    "\n",
    "my_date2 <- Sys.time()\n",
    "print(\"Fecha 2\")\n",
    "\n",
    "print(\"Resta de las fechas\")\n",
    "my_date2 - my_date\n"
   ]
  },
  {
   "cell_type": "code",
   "execution_count": null,
   "metadata": {},
   "outputs": [],
   "source": [
    "cumple <- as.Date(0, origin = \"1927-12-25\")\n",
    "print(\"Fecha 1\")\n",
    "cumple\n",
    "\n",
    "hoy <- Sys.Date()\n",
    "print(\"Fecha 2\")\n",
    "hoy\n",
    "\n",
    "print(\"Resta de las fechas en dias\")\n",
    "hoy - cumple"
   ]
  },
  {
   "cell_type": "code",
   "execution_count": null,
   "metadata": {},
   "outputs": [],
   "source": [
    "# format(), recibe objeto de tipo time y entrega el formato que queremos en tipo caracter\n",
    "now <- Sys.time()\n",
    "now\n",
    "format(now,\"%H:%M\")"
   ]
  },
  {
   "cell_type": "markdown",
   "metadata": {},
   "source": [
    "# Listas, factores, valores faltantes y dataframes\n",
    "\n",
    "Listas: vectores que pueden contener distintos tipos de datos (clases)\n",
    "\n",
    "Factores: un tipo especial de vectores. Usados para representar datos categoricos"
   ]
  },
  {
   "cell_type": "code",
   "execution_count": null,
   "metadata": {},
   "outputs": [],
   "source": [
    "# Lista\n",
    "x <- list(1,\"a\", TRUE,1+8i)\n",
    "\n",
    "print(\"Lista creada\")\n",
    "x\n",
    "typeof(x[[1]])\n",
    "\n",
    "typeof(x[[2]])\n",
    "\n",
    "\n",
    "print(\"Primer elemento de la lista\")\n",
    "x[[1]]"
   ]
  },
  {
   "cell_type": "code",
   "execution_count": null,
   "metadata": {},
   "outputs": [],
   "source": [
    "# Factores: tipo espacil de vectores utilizados para representar datos categóricos, éstos pueden ser ordenados o\n",
    "# sin orden\n",
    "\n",
    "colores <- c(\"rojo\",\"azul\", \"verde\",\"azul\",\"rojo\")\n",
    "print(\"Vector de colores\")\n",
    "colores\n",
    "\n",
    "print(\"Factor del vector\")\n",
    "factor(colores)"
   ]
  },
  {
   "cell_type": "code",
   "execution_count": null,
   "metadata": {},
   "outputs": [],
   "source": [
    "# Dataframes: Manera util de representar datos tabulares. un df representa una tabla de datos. Cada\n",
    "# columna de éste puede ser de un tipo diferente, pero cada fila debe tener la misma longitud\n",
    "\n",
    "# Primer forma\n",
    "y <- 1:5\n",
    "print(\"Vector y creado\")\n",
    "\n",
    "print(\"Longitud de y\")\n",
    "length(y)\n",
    "\n",
    "print(\"Longitud de colores\")\n",
    "length(colores)\n",
    "\n",
    "print(\"Creación del dataframe a partir del vector y y colores\")\n",
    "data.frame(llave=y,color= colores)\n",
    "\n",
    "# Segunda forma: read.table() y read.csv()\n",
    "\n",
    "# data.matrix() para convertir un dataframe en una matriz\n",
    "\n",
    "\n"
   ]
  },
  {
   "cell_type": "code",
   "execution_count": null,
   "metadata": {},
   "outputs": [],
   "source": [
    "#Subconjuntos de datos: acceder a las estructuras de datos en R\n",
    "mi_vector <- 11:30\n",
    "print(\"Vector creado\")\n",
    "mi_vector\n",
    "\n",
    "# Las posiciones en R empiezan en 1, como en Java o C\n",
    "print(\"Elemento número 3 del vector\")\n",
    "mi_vector[3]\n",
    "\n",
    "print(\"Primeros 5 elementos del vector\")\n",
    "mi_vector[1:5]\n",
    "\n",
    "#No necesariamente los indices deben ser consecutivos\n",
    "print(\"Elementos en la posición 4,6 y 13 del vector\")\n",
    "mi_vector[c(4,6,13)]\n",
    "\n",
    "#No es necesario que los indices se encuentren ordenados\n",
    "print(\"Elementos en la posición 6, 13 y 4 del vector\")\n",
    "mi_vector[c(6,13,4)]\n",
    "\n",
    "# buscar elementos mas grande que un numero n\n",
    "print(\"True en elementos mayores a 20\")\n",
    "mi_vector > 20\n",
    "\n",
    "# Indexando, obtenemos el valor\n",
    "print(\"Obteniendo valor de los elementos mayores a 20\")\n",
    "mi_vector[(mi_vector > 20)]\n",
    "\n"
   ]
  },
  {
   "cell_type": "code",
   "execution_count": null,
   "metadata": {},
   "outputs": [],
   "source": [
    "mi_matriz <- 1:10 # creacion del vector\n",
    "print(\"Matriz creada\")\n",
    "mi_matriz\n",
    "\n",
    "print(\"Conversión de vector a matríz\")\n",
    "dim(mi_matriz) <- c(2,5) # asignando la dimension \n",
    "mi_matriz\n",
    "\n",
    "# si quisieramos solo el primer renglon de mi matriz, basta con\n",
    "print(\"Primer renglon de la matriz\")\n",
    "mi_matriz[1,]\n",
    "mi_matriz[,2]\n",
    "\n",
    "# acceder a un rango de renglones\n",
    "print(\"Renglones 1 y 2 de la matriz\")\n",
    "mi_matriz[1:2,]\n"
   ]
  },
  {
   "cell_type": "code",
   "execution_count": null,
   "metadata": {},
   "outputs": [],
   "source": [
    "# Listas\n",
    "# Contienen una selección heterogénea de objetos\n",
    "#ṕueden ser referidos por su ubicacion o por su nombre\n",
    "carro <- list(color=\"rojo\", nllantas=4, marca= \"Renault\", ncilindros=4)\n",
    "print(\"Lista creada\")\n",
    "carro\n",
    "\n",
    "#indexando\n",
    "print(\"Obtener color de la lista carro\")\n",
    "carro$color\n",
    "\n",
    "# indexar un conjunto de elementos por nombre\n",
    "print(\"Obtener valores de los campos seleccionados\")\n",
    "carro[c(\"ncilindros\",\"nllantas\")]\n",
    "\n",
    "#indexar por nombre\n",
    "print(\"Obtener la marca\")\n",
    "carro[[\"marca\"]]\n",
    "\n",
    "# indexando por nomnre parcial, no exacto\n",
    "print(\"Indexar por nombre no exacto\")\n",
    "carro[[\"nl\",exact=FALSE]]"
   ]
  },
  {
   "cell_type": "code",
   "execution_count": null,
   "metadata": {},
   "outputs": [],
   "source": [
    "# lista de listas\n",
    "camioneta <- list(color=\"azul\", nllantas=4,marca= \"BMW\", ncilindros=6)\n",
    "print(\"Lista creada\")\n",
    "camioneta\n",
    "\n",
    "cochera <- list(carro, camioneta)\n",
    "print(\"Unión de listas\")\n",
    "cochera"
   ]
  },
  {
   "cell_type": "code",
   "execution_count": null,
   "metadata": {},
   "outputs": [],
   "source": [
    "# iteracion sobre la lista\n",
    "print(\"Obtiene de la posición 2 el elemento 1\")\n",
    "cochera[[c(2, 1)]] # Primer elemento de a segunda posición"
   ]
  },
  {
   "cell_type": "code",
   "execution_count": null,
   "metadata": {},
   "outputs": [],
   "source": [
    "# Las formas de acceder a las listas aplican para los dataframes\n",
    "cars # data frame cars del paquete datasets, cargado por defecto"
   ]
  },
  {
   "cell_type": "code",
   "execution_count": null,
   "metadata": {},
   "outputs": [],
   "source": [
    "print(\"Obtener el speed de cars\")\n",
    "cars$speed\n",
    "\n",
    "# supongames que deseemos saber a que velocidad iban los carros a los que les tomó más de 100 pies (ft) frenar\n",
    "print(\"True con dist mayor a 100\")\n",
    "cars$dist>100\n",
    "\n",
    "print(\"Obtiene spped con dist mayor a 100\")\n",
    "cars$speed[cars$dist>100]\n",
    "\n"
   ]
  },
  {
   "cell_type": "markdown",
   "metadata": {},
   "source": [
    "# Leer y escribir datos\n",
    "\n",
    "R puede importar conjuntos de datos desde archivos de texto, otros softwares de estadística y hasta hojas de cálculo. No es necesario tener una copia local del archivo. Se puede especificar la ubicación del archivo desde una url y R buscará el archivo en Internet"
   ]
  },
  {
   "cell_type": "code",
   "execution_count": null,
   "metadata": {},
   "outputs": [],
   "source": [
    "#fileEncoding: latin1, leer archivos en español (contengan la ñ)\n",
    "# read.csv(): archivos separados por coma\n",
    "# read.delim(): archivos delimitador por T\n",
    "\n",
    "MyData <- read.csv(file=\"workspace_intents.csv\", header=TRUE, sep=\",\", fileEncoding=\"utf-8\")\n",
    "\n",
    "#Vistas\n",
    "MyData\n",
    "\n",
    "help(read.csv)\n",
    "\n",
    "\n",
    "\n"
   ]
  },
  {
   "cell_type": "code",
   "execution_count": null,
   "metadata": {},
   "outputs": [],
   "source": [
    "# Si nos encontramos en Europa y usamos comas para indicar decimal en los números, entonces podemos usar \n",
    "#read.csv2() y read.delim()\n",
    "\n",
    "# En R las rutas de archivo siempre son especificadas con diagonales (\"/\") aun estando en windows. \n",
    "\n",
    "# Los archivos guardados en R funcionarán en todas las plataformas, es decir, archivos guardados en Linux funcionarán \n",
    "# si son cargadas desde Windows o Mac OS X\n",
    "\n",
    "write.csv(MyData, file = \"MyData.csv\")\n",
    " "
   ]
  },
  {
   "cell_type": "markdown",
   "metadata": {},
   "source": [
    "# Funciones\n",
    "\n",
    "Toman como entrada algunos objetos (llamados argumentos de función) y puede regresar un objeto de salida. Las funciones son creadas usando la función especial function() y una vez creadas son guardadas como objetos de R de clase tipo función. La última expresión es el valor de retorno\n",
    "\n"
   ]
  },
  {
   "cell_type": "code",
   "execution_count": null,
   "metadata": {},
   "outputs": [],
   "source": [
    "sucesor <- function(x) {\n",
    "    x+1\n",
    "}"
   ]
  },
  {
   "cell_type": "code",
   "execution_count": null,
   "metadata": {},
   "outputs": [],
   "source": [
    "r <- 3\n",
    "sucesor(r)"
   ]
  },
  {
   "cell_type": "code",
   "execution_count": null,
   "metadata": {},
   "outputs": [],
   "source": [
    "# Para ver el codigo fuente de la funcion que acabamos de crear, simplemente escribimos\n",
    "sucesor\n"
   ]
  },
  {
   "cell_type": "code",
   "execution_count": null,
   "metadata": {},
   "outputs": [],
   "source": [
    "mi_suma <- function(a, b = 1){\n",
    "     a + b\n",
    "}\n",
    "\n",
    "mi_suma(10)"
   ]
  },
  {
   "cell_type": "code",
   "execution_count": null,
   "metadata": {},
   "outputs": [],
   "source": [
    "mi_suma <- function(a, b=2){\n",
    "     a + b\n",
    "}\n",
    "\n",
    "mi_suma(9,4)"
   ]
  },
  {
   "cell_type": "code",
   "execution_count": null,
   "metadata": {},
   "outputs": [],
   "source": [
    "### \"...\" si no sabemos el numero de parametros que vamos a reibir\n",
    "\n",
    "a_mayusculas <- function(...){\n",
    "   frase <- paste(...)\n",
    "   print(frase)\n",
    "   toupper(frase)\n",
    " }\n",
    "a_mayusculas(\"¡Hola Mundo!\")\n",
    "\n",
    "args(a_mayusculas) # saber argumentos de una funcion, o formals()\n"
   ]
  },
  {
   "cell_type": "code",
   "execution_count": null,
   "metadata": {},
   "outputs": [],
   "source": [
    "# La function paste() concatena los elementos en \"...\" y usa la cadena para separar los terminos concatenados\n",
    "numeros_por_vocales <- function(...) {# recibe numero arbritarios de elementos\n",
    "     concat <- paste(...)\n",
    "     tolower(concat) # convertir a minuscula\n",
    "     chartr(\".\", \",\", concat) # replace de aeio por 4310 en la cadena entrante\n",
    "    \n",
    "}\n",
    "print(numeros_por_vocales(\"casa. del elefante\"))\n",
    "\n",
    "args(numeros_por_vocales)\n"
   ]
  },
  {
   "cell_type": "code",
   "execution_count": null,
   "metadata": {},
   "outputs": [],
   "source": [
    "# funciones dentro de funciones\n",
    "\n",
    "operador_inverso <- function(a){\n",
    "    -a\n",
    "}\n",
    "\n",
    "operador_binario <- function(x,f) {\n",
    "    f(x)+1\n",
    "}\n",
    "\n",
    "operador_binario(3, operador_inverso)\n",
    "    "
   ]
  },
  {
   "cell_type": "markdown",
   "metadata": {},
   "source": [
    "# Estructuras de control\n",
    "\n",
    "Permiten controlar el flujo del programa dependiendo si se cumplen las condiciones. Tareas de manera repetitiva\n",
    "\n",
    "- Condicionales: if,else\n",
    "- Bucle de repeticion: for\n",
    "- Bucle de condicion: while\n",
    "- Bucle infinito: repeat\n",
    "- Romper un bucle: break\n",
    "- Saltarse un bucle: next\n",
    "\n"
   ]
  },
  {
   "cell_type": "code",
   "execution_count": null,
   "metadata": {},
   "outputs": [],
   "source": [
    "# IF\n",
    "r <- 4\n",
    "if (r==4) {\n",
    "    x <- 1\n",
    "} else {\n",
    "    x <- 3\n",
    "    y <- 4\n",
    "}\n",
    "x"
   ]
  },
  {
   "cell_type": "code",
   "execution_count": null,
   "metadata": {},
   "outputs": [],
   "source": [
    "x <- 5\n",
    "\n",
    "y <- if (x>3) { # a y se le asigna si se cumple la condicion\n",
    "    10\n",
    "} else\n",
    "    {\n",
    "    0\n",
    "}\n",
    "\n",
    "y\n",
    "\n",
    "# podemos prescindir del else utilizando IF secuencialmente"
   ]
  },
  {
   "cell_type": "code",
   "execution_count": null,
   "metadata": {},
   "outputs": [],
   "source": [
    "# FOR\n",
    "\n",
    "for (i in 1:10) { # itera del 1 al 10 e imprime\n",
    "    print(i)\n",
    "}"
   ]
  },
  {
   "cell_type": "code",
   "execution_count": null,
   "metadata": {},
   "outputs": [],
   "source": [
    "seBis <- c(\"s\",\"e\",\"b\",\"i\",\"s\")\n",
    "\n",
    "for (i in seBis){\n",
    "    print(i)\n",
    "}"
   ]
  },
  {
   "cell_type": "code",
   "execution_count": null,
   "metadata": {},
   "outputs": [],
   "source": [
    "# Otra manera de hacerlo: seq_along: genera un vector de los elementos dl arreglo, en este caso, genera \n",
    "# un vector del 1 al 5\n",
    "for (i in seq_along(seBis)){ # seq_along = 1:5\n",
    "    print(seBis[i])\n",
    "}"
   ]
  },
  {
   "cell_type": "code",
   "execution_count": null,
   "metadata": {},
   "outputs": [],
   "source": [
    "for (i in 1:length(seBis)){ #lenght de seBis\n",
    "    print(seBis[i])\n",
    "}"
   ]
  },
  {
   "cell_type": "code",
   "execution_count": null,
   "metadata": {},
   "outputs": [],
   "source": [
    "x <- seq(from=1,to=100,by=0.5) # vector del 1 al 100 con pasos de 0.5\n",
    "for (i in x){\n",
    "    print(i)\n",
    "}"
   ]
  },
  {
   "cell_type": "code",
   "execution_count": null,
   "metadata": {},
   "outputs": [],
   "source": [
    "# Bucles anidados\n",
    "x <- matrix(seq(1,18,2),3,3) #matriz del 1 al 18, pasos de 2, de dimension 3 x 3\n",
    "\n",
    "for(i in seq_len(nrow(x))){\n",
    "    for(j in seq_len(ncol(x)))\n",
    "        {\n",
    "        print(x[i,j])\n",
    "    }\n",
    "}\n",
    "\n"
   ]
  },
  {
   "cell_type": "code",
   "execution_count": null,
   "metadata": {},
   "outputs": [],
   "source": [
    "var <- 0\n",
    "for(i in 1:10){\n",
    "    for(j in 1:5){\n",
    "        var <- var + j\n",
    "    }\n",
    "}\n",
    "var"
   ]
  },
  {
   "cell_type": "code",
   "execution_count": null,
   "metadata": {},
   "outputs": [],
   "source": [
    "# WHILE\n",
    "contador <- 0\n",
    "while(contador <10){\n",
    "    print(contador)\n",
    "    contador <- contador + 2\n",
    "}"
   ]
  },
  {
   "cell_type": "code",
   "execution_count": null,
   "metadata": {},
   "outputs": [],
   "source": [
    "a <- 5\n",
    "while(a>=3 && a <= 10){\n",
    "    print(a)\n",
    "    moneda <- rbinom(1,1,0.5)\n",
    "    \n",
    "    if (moneda == 1){\n",
    "        a <- a+1\n",
    "    } else {\n",
    "        a <- a -1\n",
    "    }\n",
    "}\n",
    "print(\"########\")\n",
    "z <- rbinom(1,1,0.5)\n",
    "z"
   ]
  },
  {
   "cell_type": "code",
   "execution_count": null,
   "metadata": {},
   "outputs": [],
   "source": [
    "rbinom(1,2,0.5)"
   ]
  },
  {
   "cell_type": "code",
   "execution_count": null,
   "metadata": {},
   "outputs": [],
   "source": [
    "# combinacion de repeat y break\n",
    "#repeat: entra directo al bucle sin preguntar (condicion) y una vez adentro preguntar por if\n",
    "#si la condicion se cumple o no\n",
    "#break: romper el bucle y continuar con el camino del flujo del programa\n",
    "\n",
    "# desventaja del repeat: puede suceder que la condicion nunca se cumpla, lo cual genera un bucle infinito\n",
    "a <- 5\n",
    "contador <-0\n",
    "repeat {\n",
    "    contador <- contador + 1\n",
    "    if (a == contador){\n",
    "        print(a)\n",
    "        break\n",
    "    } else {\n",
    "        print(contador)\n",
    "    }\n",
    "}\n",
    "\n"
   ]
  },
  {
   "cell_type": "code",
   "execution_count": null,
   "metadata": {},
   "outputs": [],
   "source": [
    "#Next\n",
    "#salta si se cumple la condicion\n",
    "for (i in 1:100){\n",
    "    if (i<20){\n",
    "        print(i)\n",
    "        next\n",
    "    }\n",
    "}"
   ]
  },
  {
   "cell_type": "markdown",
   "metadata": {},
   "source": [
    "# Aprendizaje automático con R\n",
    "\n",
    "Aplicació para predecir la calidad de la atención en un hospital. PoorCare es la variable de resultado o dependiente, y es igual a 1 si el paciente tuvo una mala atención, e igual a 0 si el paciente tuvo una buena atención. El objetivo del conjunto de datos es evaluar la calidad de la atención sanitaria. Por lo tanto, 131 pacientes diabéticos fueron seleccionados aleatoriamente entre las edades de 35 y 55 años."
   ]
  },
  {
   "cell_type": "code",
   "execution_count": null,
   "metadata": {},
   "outputs": [],
   "source": [
    "# Lectura de los datos\n",
    "quality = read.csv('quality.csv')\n",
    "\n",
    "# Número de variables: 12 variables desde InpatientDays hasta AcuteDrugGapSmall, 1 dependiente, 1 la observacion\n",
    "\n",
    "print(paste(\"Número de variables: \", length(quality)))\n",
    "\n",
    "# Número de observaciones\n",
    "print(paste(\"Número de observaciones (pacientes): \",nrow(quality)))\n",
    "\n"
   ]
  },
  {
   "cell_type": "code",
   "execution_count": null,
   "metadata": {},
   "outputs": [],
   "source": [
    "# División: Entrenamiento y test\n",
    "\n",
    "# Uso del paquete CaTools, el cual contiene el método sample.split. Divide a una proporcíón de 75% train \n",
    "#y 25% test\n",
    "\n",
    "install.packages(\"caTools\")\n",
    "library(caTools)\n",
    "\n"
   ]
  },
  {
   "cell_type": "code",
   "execution_count": null,
   "metadata": {},
   "outputs": [],
   "source": [
    "\n",
    "split = sample.split(quality$PoorCare, SplitRatio = 0.75)\n",
    "\n",
    "split\n",
    "\n",
    "# Valores en TRUE indican que la observación fue puesta en entrenamiento, FALSE en test"
   ]
  },
  {
   "cell_type": "code",
   "execution_count": null,
   "metadata": {},
   "outputs": [],
   "source": [
    "# Entrenando y validando\n",
    "\n",
    "# Función subset para crear los sets.. qualityTrain para trin y qualityTest para test"
   ]
  },
  {
   "cell_type": "code",
   "execution_count": null,
   "metadata": {},
   "outputs": [],
   "source": [
    "qualityTrain = subset(quality, split == TRUE)\n",
    "\n",
    "qualityTest = subset(quality, split == FALSE)\n",
    "\n",
    "print(paste(\"Datos a entrenar: \", nrow(qualityTrain)))\n",
    "\n",
    "print(paste(\"Datos a validar: \", nrow(qualityTest)))"
   ]
  },
  {
   "cell_type": "code",
   "execution_count": null,
   "metadata": {},
   "outputs": [],
   "source": [
    "# Modelo de regresión logistica\n",
    "\n",
    "# usando: Usando las variables OfficeVisits y Narcotics como independientes. \n",
    "# glm para construir el modelo\n",
    "\n",
    "QualityLog = glm(PoorCare ~ OfficeVisits + Narcotics,data=qualityTrain, family=binomial)\n",
    "\n",
    "summary(QualityLog)\n",
    "\n"
   ]
  },
  {
   "cell_type": "markdown",
   "metadata": {},
   "source": [
    "La tabla de coeficientes da los valores estimados para los coeficientes, o las betas, para nuestro modelo de \n",
    "regresión logística, y vemos aquí que los coeficientes para OfficeVisitsand Narcotics son ambos positivos, \n",
    "lo que significa que los valores más altos en estas dos variables son indicativos de un cuidado deficiente\n",
    "\n",
    "También se puede verque ambas variables tienen al menos una estrella, lo que significa que son significativas en el modelo.\n",
    "\n"
   ]
  },
  {
   "cell_type": "markdown",
   "metadata": {},
   "source": [
    "# Prediciendo\n",
    "Llamémoslo predictTrain y usemos la función predict para hacer predicciones usando el modelo QualityLog. También usaremos un argumento llamado type=\"response\" que nos da las probabilidades."
   ]
  },
  {
   "cell_type": "code",
   "execution_count": null,
   "metadata": {},
   "outputs": [],
   "source": [
    "predictTrain = predict(QualityLog, type=\"response\")\n",
    "\n",
    "summary(predictTrain)\n",
    "\n",
    "tapply(predictTrain, qualityTrain$PoorCare, mean) \n"
   ]
  },
  {
   "cell_type": "markdown",
   "metadata": {},
   "source": [
    "Encontramos que para todos los casos de atención verdaderamente deficiente, predecimos una probabilidad promedio de alrededor de 0,44. Y para todos los casos de buena atención verdadera, predecimos una probabilidad promedio de alrededor de 0,19.\n",
    "Esto es bueno porque parece que estamos prediciendo una mayor probabilidad para los casos reales de mala atención."
   ]
  },
  {
   "cell_type": "code",
   "execution_count": null,
   "metadata": {},
   "outputs": [],
   "source": [
    "table(qualityTrain$PoorCare, predictTrain > 0.5)"
   ]
  },
  {
   "cell_type": "code",
   "execution_count": null,
   "metadata": {},
   "outputs": [],
   "source": []
  },
  {
   "cell_type": "code",
   "execution_count": null,
   "metadata": {},
   "outputs": [],
   "source": []
  }
 ],
 "metadata": {
  "kernelspec": {
   "display_name": "R",
   "language": "R",
   "name": "ir"
  },
  "language_info": {
   "codemirror_mode": "r",
   "file_extension": ".r",
   "mimetype": "text/x-r-source",
   "name": "R",
   "pygments_lexer": "r",
   "version": "3.5.1"
  }
 },
 "nbformat": 4,
 "nbformat_minor": 2
}
